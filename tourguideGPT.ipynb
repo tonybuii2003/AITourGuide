{
  "cells": [
    {
      "cell_type": "markdown",
      "metadata": {
        "colab_type": "text",
        "id": "view-in-github"
      },
      "source": [
        "<a href=\"https://colab.research.google.com/github/tonybuii2003/AITourGuide/blob/main/tourguidegpt.ipynb\" target=\"_parent\"><img src=\"https://colab.research.google.com/assets/colab-badge.svg\" alt=\"Open In Colab\"/></a>"
      ]
    },
    {
      "cell_type": "code",
      "execution_count": 1,
      "metadata": {
        "id": "o_e53XYTU9jp"
      },
      "outputs": [
        {
          "name": "stderr",
          "output_type": "stream",
          "text": [
            "None of PyTorch, TensorFlow >= 2.0, or Flax have been found. Models won't be available and only tokenizers, configuration and file/data utilities can be used.\n",
            "None of PyTorch, TensorFlow >= 2.0, or Flax have been found. Models won't be available and only tokenizers, configuration and file/data utilities can be used.\n"
          ]
        }
      ],
      "source": [
        "import pandas as pd\n",
        "from sklearn.feature_extraction.text import TfidfVectorizer\n",
        "from sklearn.metrics.pairwise import cosine_similarity\n",
        "from transformers import pipeline"
      ]
    },
    {
      "cell_type": "code",
      "execution_count": 34,
      "metadata": {},
      "outputs": [],
      "source": [
        "from IPython.display import Markdown, display"
      ]
    },
    {
      "cell_type": "code",
      "execution_count": 2,
      "metadata": {
        "colab": {
          "base_uri": "https://localhost:8080/"
        },
        "id": "PyWTvnI1Xoni",
        "outputId": "2e0be1e4-0d57-4323-e2a3-2974c0812f3b"
      },
      "outputs": [
        {
          "name": "stdout",
          "output_type": "stream",
          "text": [
            "Collecting openai\n",
            "  Downloading openai-1.61.1-py3-none-any.whl.metadata (27 kB)\n",
            "Requirement already satisfied: anyio<5,>=3.5.0 in /Users/flying-dragon03/miniconda3/envs/tourguideAI/lib/python3.9/site-packages (from openai) (4.8.0)\n",
            "Collecting distro<2,>=1.7.0 (from openai)\n",
            "  Downloading distro-1.9.0-py3-none-any.whl.metadata (6.8 kB)\n",
            "Requirement already satisfied: httpx<1,>=0.23.0 in /Users/flying-dragon03/miniconda3/envs/tourguideAI/lib/python3.9/site-packages (from openai) (0.28.1)\n",
            "Collecting jiter<1,>=0.4.0 (from openai)\n",
            "  Downloading jiter-0.8.2-cp39-cp39-macosx_10_12_x86_64.whl.metadata (5.2 kB)\n",
            "Collecting pydantic<3,>=1.9.0 (from openai)\n",
            "  Downloading pydantic-2.10.6-py3-none-any.whl.metadata (30 kB)\n",
            "Requirement already satisfied: sniffio in /Users/flying-dragon03/miniconda3/envs/tourguideAI/lib/python3.9/site-packages (from openai) (1.3.1)\n",
            "Requirement already satisfied: tqdm>4 in /Users/flying-dragon03/miniconda3/envs/tourguideAI/lib/python3.9/site-packages (from openai) (4.67.1)\n",
            "Requirement already satisfied: typing-extensions<5,>=4.11 in /Users/flying-dragon03/miniconda3/envs/tourguideAI/lib/python3.9/site-packages (from openai) (4.12.2)\n",
            "Requirement already satisfied: exceptiongroup>=1.0.2 in /Users/flying-dragon03/miniconda3/envs/tourguideAI/lib/python3.9/site-packages (from anyio<5,>=3.5.0->openai) (1.2.2)\n",
            "Requirement already satisfied: idna>=2.8 in /Users/flying-dragon03/miniconda3/envs/tourguideAI/lib/python3.9/site-packages (from anyio<5,>=3.5.0->openai) (3.10)\n",
            "Requirement already satisfied: certifi in /Users/flying-dragon03/miniconda3/envs/tourguideAI/lib/python3.9/site-packages (from httpx<1,>=0.23.0->openai) (2025.1.31)\n",
            "Requirement already satisfied: httpcore==1.* in /Users/flying-dragon03/miniconda3/envs/tourguideAI/lib/python3.9/site-packages (from httpx<1,>=0.23.0->openai) (1.0.7)\n",
            "Requirement already satisfied: h11<0.15,>=0.13 in /Users/flying-dragon03/miniconda3/envs/tourguideAI/lib/python3.9/site-packages (from httpcore==1.*->httpx<1,>=0.23.0->openai) (0.14.0)\n",
            "Collecting annotated-types>=0.6.0 (from pydantic<3,>=1.9.0->openai)\n",
            "  Downloading annotated_types-0.7.0-py3-none-any.whl.metadata (15 kB)\n",
            "Collecting pydantic-core==2.27.2 (from pydantic<3,>=1.9.0->openai)\n",
            "  Downloading pydantic_core-2.27.2-cp39-cp39-macosx_10_12_x86_64.whl.metadata (6.6 kB)\n",
            "Downloading openai-1.61.1-py3-none-any.whl (463 kB)\n",
            "Downloading distro-1.9.0-py3-none-any.whl (20 kB)\n",
            "Downloading jiter-0.8.2-cp39-cp39-macosx_10_12_x86_64.whl (304 kB)\n",
            "Downloading pydantic-2.10.6-py3-none-any.whl (431 kB)\n",
            "Downloading pydantic_core-2.27.2-cp39-cp39-macosx_10_12_x86_64.whl (1.9 MB)\n",
            "\u001b[2K   \u001b[38;2;114;156;31m━━━━━━━━━━━━━━━━━━━━━━━━━━━━━━━━━━━━━━━━\u001b[0m \u001b[32m1.9/1.9 MB\u001b[0m \u001b[31m29.6 MB/s\u001b[0m eta \u001b[36m0:00:00\u001b[0m\n",
            "\u001b[?25hDownloading annotated_types-0.7.0-py3-none-any.whl (13 kB)\n",
            "Installing collected packages: pydantic-core, jiter, distro, annotated-types, pydantic, openai\n",
            "Successfully installed annotated-types-0.7.0 distro-1.9.0 jiter-0.8.2 openai-1.61.1 pydantic-2.10.6 pydantic-core-2.27.2\n",
            "Note: you may need to restart the kernel to use updated packages.\n"
          ]
        }
      ],
      "source": [
        "pip install openai\n"
      ]
    },
    {
      "cell_type": "code",
      "execution_count": 4,
      "metadata": {
        "id": "l6166ubeXyFW"
      },
      "outputs": [],
      "source": [
        "from openai import AsyncOpenAI\n",
        "import asyncio"
      ]
    },
    {
      "cell_type": "code",
      "execution_count": 12,
      "metadata": {
        "id": "ICfsLLcoZ2Ts"
      },
      "outputs": [],
      "source": [
        "import os\n",
        "from dotenv import load_dotenv"
      ]
    },
    {
      "cell_type": "code",
      "execution_count": 3,
      "metadata": {
        "colab": {
          "base_uri": "https://localhost:8080/"
        },
        "id": "LtKY1skVV8Oi",
        "outputId": "eba952b8-100c-4ccc-e06d-d6951442cd14"
      },
      "outputs": [
        {
          "name": "stderr",
          "output_type": "stream",
          "text": [
            "/var/folders/s5/pg7q47_11hbf9hmbwtn2z1dc0000gn/T/ipykernel_36902/1170850707.py:1: DtypeWarning: Columns (5,7,10,11,12,13,14,34,35,36,37,38,39,40,41,42,43,44,45,46) have mixed types. Specify dtype option on import or set low_memory=False.\n",
            "  data = pd.read_csv('/Users/flying-dragon03/Documents/projects/TourGuideApp/openaccess/MetObjects.csv')\n"
          ]
        }
      ],
      "source": [
        "data = pd.read_csv('/Users/flying-dragon03/Documents/projects/TourGuideApp/openaccess/MetObjects.csv')"
      ]
    },
    {
      "cell_type": "code",
      "execution_count": 6,
      "metadata": {
        "colab": {
          "base_uri": "https://localhost:8080/"
        },
        "id": "OsSz9czEWDnz",
        "outputId": "727138a7-c62f-42cd-8759-1a526a948959"
      },
      "outputs": [
        {
          "name": "stdout",
          "output_type": "stream",
          "text": [
            "['Object Number' 'Is Highlight' 'Is Timeline Work' 'Is Public Domain'\n",
            " 'Object ID' 'Gallery Number' 'Department' 'AccessionYear' 'Object Name'\n",
            " 'Title' 'Culture' 'Period' 'Dynasty' 'Reign' 'Portfolio' 'Constituent ID'\n",
            " 'Artist Role' 'Artist Prefix' 'Artist Display Name' 'Artist Display Bio'\n",
            " 'Artist Suffix' 'Artist Alpha Sort' 'Artist Nationality'\n",
            " 'Artist Begin Date' 'Artist End Date' 'Artist Gender' 'Artist ULAN URL'\n",
            " 'Artist Wikidata URL' 'Object Date' 'Object Begin Date' 'Object End Date'\n",
            " 'Medium' 'Dimensions' 'Credit Line' 'Geography Type' 'City' 'State'\n",
            " 'County' 'Country' 'Region' 'Subregion' 'Locale' 'Locus' 'Excavation'\n",
            " 'River' 'Classification' 'Rights and Reproduction' 'Link Resource'\n",
            " 'Object Wikidata URL' 'Metadata Date' 'Repository' 'Tags' 'Tags AAT URL'\n",
            " 'Tags Wikidata URL']\n"
          ]
        }
      ],
      "source": [
        "print(data.columns.values)"
      ]
    },
    {
      "cell_type": "code",
      "execution_count": 7,
      "metadata": {
        "id": "RCVVgtJ2XGTf"
      },
      "outputs": [],
      "source": [
        "relevant_columns = [\n",
        "    'Title', 'Culture', 'Period', 'Dynasty', 'Reign',\n",
        "    'Artist Display Name', 'Artist Nationality', 'Artist Display Bio',\n",
        "    'Object Date', 'Medium', 'Dimensions', 'Credit Line',\n",
        "    'City', 'Country', 'Region', 'Classification', 'Tags'\n",
        "]\n",
        "\n",
        "# Fill NaN values with empty strings to avoid errors during concatenation\n",
        "data[relevant_columns] = data[relevant_columns].fillna('')\n",
        "\n",
        "# Create a combined_text column with prioritized information\n",
        "data['combined_text'] = data.apply(\n",
        "    lambda row: ' | '.join([f\"{col}: {row[col]}\" for col in relevant_columns if row[col]]),\n",
        "    axis=1\n",
        ")"
      ]
    },
    {
      "cell_type": "code",
      "execution_count": 8,
      "metadata": {
        "id": "UJXK5WpjXa01"
      },
      "outputs": [],
      "source": [
        "# Step 1: Retriever - TF-IDF Vectorization\n",
        "vectorizer = TfidfVectorizer(stop_words='english')\n",
        "tfidf_matrix = vectorizer.fit_transform(data['combined_text'])"
      ]
    },
    {
      "cell_type": "code",
      "execution_count": null,
      "metadata": {},
      "outputs": [],
      "source": []
    },
    {
      "cell_type": "code",
      "execution_count": 31,
      "metadata": {
        "id": "LHJ8Eaouh8T-"
      },
      "outputs": [],
      "source": [
        "load_dotenv()\n",
        "api_key = os.getenv('OPENAI_API')\n",
        "if api_key is None:\n",
        "    raise ValueError(\"The 'OPENAI_API' key is missing from the environment variables.\")\n",
        "client = AsyncOpenAI(api_key=api_key)"
      ]
    },
    {
      "cell_type": "code",
      "execution_count": 32,
      "metadata": {
        "id": "6TTMFJblXb5E"
      },
      "outputs": [],
      "source": [
        "async def rag_query(user_query):\n",
        "    query_vector = vectorizer.transform([user_query])\n",
        "\n",
        "    similarity_scores = cosine_similarity(query_vector, tfidf_matrix).flatten()\n",
        "\n",
        "    top_doc_index = similarity_scores.argmax()\n",
        "    retrieved_context = data.iloc[top_doc_index]['combined_text']\n",
        "    prompt = f\"Context: {retrieved_context}\\n\\nQuestion: {user_query}\\nAnswer:\"\n",
        "    response = await client.chat.completions.create(\n",
        "        model=\"gpt-4o\",\n",
        "        messages=[\n",
        "            {\"role\": \"system\", \"content\": \"You are an expert tour guide at The Metropolitan Museum of Art (The Met) in New York City. Your role is to provide engaging, accurate, and detailed information about the museum's exhibits, history, and artworks. Answer questions with enthusiasm, clarity, and a friendly tone, making the information accessible to all ages. Highlight interesting facts, cultural significance, and historical context when relevant. Feel free to recommend must-see exhibits, hidden gems, and tips for enjoying the museum experience. If the visitor asks in a specific language, respond in the same language fluently while maintaining the same level of detail and professionalism. Always adapt your tone to be culturally appropriate and respectful. If you don’t have enough information, respond honestly and encourage the visitor to explore further at The Met.\"},\n",
        "            {\"role\": \"user\", \"content\": prompt}\n",
        "        ],\n",
        "        max_tokens=1000\n",
        "    )\n",
        "\n",
        "    return response.choices[0].message.content\n",
        "\n"
      ]
    },
    {
      "cell_type": "code",
      "execution_count": 36,
      "metadata": {
        "colab": {
          "base_uri": "https://localhost:8080/"
        },
        "id": "RHifxKtIjPel",
        "outputId": "2c8a78ca-f351-47fe-b33f-b75fbb617752"
      },
      "outputs": [
        {
          "data": {
            "text/markdown": [
              "Dĩ nhiên! Tại The Met, có rất nhiều tác phẩm nghệ thuật có giá trị lịch sử lâu đời, và dưới đây là ba bức tranh nổi bật mà bạn có thể quan tâm:\n",
              "\n",
              "1. **\"Madonna and Child\" của Duccio di Buoninsegna**: Được tạo ra vào khoảng năm 1300, bức tranh này là một trong những tác phẩm quan trọng của nghệ sĩ người Ý Duccio, nổi tiếng với phong cách hội họa Gothic. Bức tranh này không chỉ thể hiện kỹ thuật đỉnh cao thời Trung Cổ mà còn là một trong những tác phẩm nổi bật nhất trong bộ sưu tập nghệ thuật châu Âu của The Met.\n",
              "\n",
              "2. **\"The Harvesters\" của Pieter Bruegel the Elder**: Được vẽ vào năm 1565, đây là một trong những kiệt tác của nghệ sĩ người Hà Lan Pieter Bruegel the Elder. Tác phẩm này là một phần của loạt tranh về các mùa trong năm và miêu tả cảnh nông thôn với chi tiết tỉ mỉ và màu sắc tươi sáng, thể hiện một góc nhìn độc đáo về đời sống nông dân vào thế kỷ 16.\n",
              "\n",
              "3. **\"The Death of Socrates\" của Jacques-Louis David**: Được sáng tác vào năm 1787, bức tranh theo trường phái Tân cổ điển này miêu tả khoảnh khắc cuối cùng trong cuộc đời của triết gia Socrates. Jacques-Louis David, một trong những họa sĩ nổi tiếng nhất của thời kỳ này, đã sử dụng ánh sáng và bố cục một cách tài tình để truyền tải thông điệp về triết lý và sự hy sinh.\n",
              "\n",
              "Hy vọng những thông tin này sẽ giúp bạn có một chuyến tham quan thú vị tại The Met! Nếu bạn cần thêm thông tin về bất kỳ tác phẩm nào, đừng ngần ngại yêu cầu."
            ],
            "text/plain": [
              "<IPython.core.display.Markdown object>"
            ]
          },
          "metadata": {},
          "output_type": "display_data"
        }
      ],
      "source": [
        "# Example Query\n",
        "query = \"kể tôi về 3 bức tranh có giá trị lịch sử lâu đời nhất ở Met\"\n",
        "\n",
        "try:\n",
        "    import nest_asyncio\n",
        "    nest_asyncio.apply()\n",
        "    response = await rag_query(query)\n",
        "except RuntimeError:\n",
        "    response = asyncio.run(rag_query(query))\n",
        "\n",
        "display(Markdown(response))\n"
      ]
    }
  ],
  "metadata": {
    "accelerator": "GPU",
    "colab": {
      "gpuType": "T4",
      "include_colab_link": true,
      "provenance": []
    },
    "kernelspec": {
      "display_name": "tourguideAI",
      "language": "python",
      "name": "python3"
    },
    "language_info": {
      "codemirror_mode": {
        "name": "ipython",
        "version": 3
      },
      "file_extension": ".py",
      "mimetype": "text/x-python",
      "name": "python",
      "nbconvert_exporter": "python",
      "pygments_lexer": "ipython3",
      "version": "3.9.0"
    }
  },
  "nbformat": 4,
  "nbformat_minor": 0
}
