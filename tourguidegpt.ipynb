{
  "nbformat": 4,
  "nbformat_minor": 0,
  "metadata": {
    "colab": {
      "provenance": [],
      "gpuType": "T4",
      "include_colab_link": true
    },
    "kernelspec": {
      "name": "python3",
      "display_name": "Python 3"
    },
    "language_info": {
      "name": "python"
    },
    "accelerator": "GPU"
  },
  "cells": [
    {
      "cell_type": "markdown",
      "metadata": {
        "id": "view-in-github",
        "colab_type": "text"
      },
      "source": [
        "<a href=\"https://colab.research.google.com/github/tonybuii2003/AITourGuide/blob/main/tourguidegpt.ipynb\" target=\"_parent\"><img src=\"https://colab.research.google.com/assets/colab-badge.svg\" alt=\"Open In Colab\"/></a>"
      ]
    },
    {
      "cell_type": "code",
      "execution_count": null,
      "metadata": {
        "id": "o_e53XYTU9jp"
      },
      "outputs": [],
      "source": [
        "import pandas as pd\n",
        "from sklearn.feature_extraction.text import TfidfVectorizer\n",
        "from sklearn.metrics.pairwise import cosine_similarity\n",
        "from transformers import pipeline"
      ]
    },
    {
      "cell_type": "code",
      "source": [
        "pip install openai\n"
      ],
      "metadata": {
        "colab": {
          "base_uri": "https://localhost:8080/"
        },
        "id": "PyWTvnI1Xoni",
        "outputId": "2e0be1e4-0d57-4323-e2a3-2974c0812f3b"
      },
      "execution_count": null,
      "outputs": [
        {
          "output_type": "stream",
          "name": "stdout",
          "text": [
            "Requirement already satisfied: openai in /usr/local/lib/python3.11/dist-packages (1.59.9)\n",
            "Requirement already satisfied: anyio<5,>=3.5.0 in /usr/local/lib/python3.11/dist-packages (from openai) (3.7.1)\n",
            "Requirement already satisfied: distro<2,>=1.7.0 in /usr/local/lib/python3.11/dist-packages (from openai) (1.9.0)\n",
            "Requirement already satisfied: httpx<1,>=0.23.0 in /usr/local/lib/python3.11/dist-packages (from openai) (0.28.1)\n",
            "Requirement already satisfied: jiter<1,>=0.4.0 in /usr/local/lib/python3.11/dist-packages (from openai) (0.8.2)\n",
            "Requirement already satisfied: pydantic<3,>=1.9.0 in /usr/local/lib/python3.11/dist-packages (from openai) (2.10.6)\n",
            "Requirement already satisfied: sniffio in /usr/local/lib/python3.11/dist-packages (from openai) (1.3.1)\n",
            "Requirement already satisfied: tqdm>4 in /usr/local/lib/python3.11/dist-packages (from openai) (4.67.1)\n",
            "Requirement already satisfied: typing-extensions<5,>=4.11 in /usr/local/lib/python3.11/dist-packages (from openai) (4.12.2)\n",
            "Requirement already satisfied: idna>=2.8 in /usr/local/lib/python3.11/dist-packages (from anyio<5,>=3.5.0->openai) (3.10)\n",
            "Requirement already satisfied: certifi in /usr/local/lib/python3.11/dist-packages (from httpx<1,>=0.23.0->openai) (2024.12.14)\n",
            "Requirement already satisfied: httpcore==1.* in /usr/local/lib/python3.11/dist-packages (from httpx<1,>=0.23.0->openai) (1.0.7)\n",
            "Requirement already satisfied: h11<0.15,>=0.13 in /usr/local/lib/python3.11/dist-packages (from httpcore==1.*->httpx<1,>=0.23.0->openai) (0.14.0)\n",
            "Requirement already satisfied: annotated-types>=0.6.0 in /usr/local/lib/python3.11/dist-packages (from pydantic<3,>=1.9.0->openai) (0.7.0)\n",
            "Requirement already satisfied: pydantic-core==2.27.2 in /usr/local/lib/python3.11/dist-packages (from pydantic<3,>=1.9.0->openai) (2.27.2)\n"
          ]
        }
      ]
    },
    {
      "cell_type": "code",
      "source": [
        "from openai import AsyncOpenAI\n",
        "import asyncio"
      ],
      "metadata": {
        "id": "l6166ubeXyFW"
      },
      "execution_count": null,
      "outputs": []
    },
    {
      "cell_type": "code",
      "source": [
        "import os"
      ],
      "metadata": {
        "id": "ICfsLLcoZ2Ts"
      },
      "execution_count": null,
      "outputs": []
    },
    {
      "cell_type": "code",
      "source": [
        "data = pd.read_csv('/content/MetObjects.csv')"
      ],
      "metadata": {
        "colab": {
          "base_uri": "https://localhost:8080/"
        },
        "id": "LtKY1skVV8Oi",
        "outputId": "eba952b8-100c-4ccc-e06d-d6951442cd14"
      },
      "execution_count": null,
      "outputs": [
        {
          "output_type": "stream",
          "name": "stderr",
          "text": [
            "<ipython-input-5-0aa2d8616974>:1: DtypeWarning: Columns (5,11,35,36,37,39) have mixed types. Specify dtype option on import or set low_memory=False.\n",
            "  data = pd.read_csv('/content/MetObjects.csv')\n"
          ]
        }
      ]
    },
    {
      "cell_type": "code",
      "source": [
        "print(data.columns.values)"
      ],
      "metadata": {
        "colab": {
          "base_uri": "https://localhost:8080/"
        },
        "id": "OsSz9czEWDnz",
        "outputId": "727138a7-c62f-42cd-8759-1a526a948959"
      },
      "execution_count": null,
      "outputs": [
        {
          "output_type": "stream",
          "name": "stdout",
          "text": [
            "['Object Number' 'Is Highlight' 'Is Timeline Work' 'Is Public Domain'\n",
            " 'Object ID' 'Gallery Number' 'Department' 'AccessionYear' 'Object Name'\n",
            " 'Title' 'Culture' 'Period' 'Dynasty' 'Reign' 'Portfolio' 'Constituent ID'\n",
            " 'Artist Role' 'Artist Prefix' 'Artist Display Name' 'Artist Display Bio'\n",
            " 'Artist Suffix' 'Artist Alpha Sort' 'Artist Nationality'\n",
            " 'Artist Begin Date' 'Artist End Date' 'Artist Gender' 'Artist ULAN URL'\n",
            " 'Artist Wikidata URL' 'Object Date' 'Object Begin Date' 'Object End Date'\n",
            " 'Medium' 'Dimensions' 'Credit Line' 'Geography Type' 'City' 'State'\n",
            " 'County' 'Country' 'Region' 'Subregion' 'Locale' 'Locus' 'Excavation'\n",
            " 'River' 'Classification' 'Rights and Reproduction' 'Link Resource'\n",
            " 'Object Wikidata URL' 'Metadata Date' 'Repository' 'Tags' 'Tags AAT URL'\n",
            " 'Tags Wikidata URL']\n"
          ]
        }
      ]
    },
    {
      "cell_type": "code",
      "source": [
        "relevant_columns = [\n",
        "    'Title', 'Culture', 'Period', 'Dynasty', 'Reign',\n",
        "    'Artist Display Name', 'Artist Nationality', 'Artist Display Bio',\n",
        "    'Object Date', 'Medium', 'Dimensions', 'Credit Line',\n",
        "    'City', 'Country', 'Region', 'Classification', 'Tags'\n",
        "]\n",
        "\n",
        "# Fill NaN values with empty strings to avoid errors during concatenation\n",
        "data[relevant_columns] = data[relevant_columns].fillna('')\n",
        "\n",
        "# Create a combined_text column with prioritized information\n",
        "data['combined_text'] = data.apply(\n",
        "    lambda row: ' | '.join([f\"{col}: {row[col]}\" for col in relevant_columns if row[col]]),\n",
        "    axis=1\n",
        ")"
      ],
      "metadata": {
        "id": "RCVVgtJ2XGTf"
      },
      "execution_count": null,
      "outputs": []
    },
    {
      "cell_type": "code",
      "source": [
        "# Step 1: Retriever - TF-IDF Vectorization\n",
        "vectorizer = TfidfVectorizer(stop_words='english')\n",
        "tfidf_matrix = vectorizer.fit_transform(data['combined_text'])"
      ],
      "metadata": {
        "id": "UJXK5WpjXa01"
      },
      "execution_count": null,
      "outputs": []
    },
    {
      "cell_type": "code",
      "source": [
        "pip install httpx"
      ],
      "metadata": {
        "colab": {
          "base_uri": "https://localhost:8080/"
        },
        "id": "jvhSsQM6fene",
        "outputId": "11e60ec2-5564-40ac-b777-c28ab95f2f09"
      },
      "execution_count": null,
      "outputs": [
        {
          "output_type": "stream",
          "name": "stdout",
          "text": [
            "Requirement already satisfied: httpx in /usr/local/lib/python3.11/dist-packages (0.28.1)\n",
            "Requirement already satisfied: anyio in /usr/local/lib/python3.11/dist-packages (from httpx) (3.7.1)\n",
            "Requirement already satisfied: certifi in /usr/local/lib/python3.11/dist-packages (from httpx) (2024.12.14)\n",
            "Requirement already satisfied: httpcore==1.* in /usr/local/lib/python3.11/dist-packages (from httpx) (1.0.7)\n",
            "Requirement already satisfied: idna in /usr/local/lib/python3.11/dist-packages (from httpx) (3.10)\n",
            "Requirement already satisfied: h11<0.15,>=0.13 in /usr/local/lib/python3.11/dist-packages (from httpcore==1.*->httpx) (0.14.0)\n",
            "Requirement already satisfied: sniffio>=1.1 in /usr/local/lib/python3.11/dist-packages (from anyio->httpx) (1.3.1)\n"
          ]
        }
      ]
    },
    {
      "cell_type": "code",
      "source": [
        "import httpx"
      ],
      "metadata": {
        "id": "1dhXri38fkIu"
      },
      "execution_count": null,
      "outputs": []
    },
    {
      "cell_type": "code",
      "source": [],
      "metadata": {
        "id": "LohMlx0Qitv_"
      },
      "execution_count": null,
      "outputs": []
    },
    {
      "cell_type": "code",
      "source": [
        "client = AsyncOpenAI(api_key=API_KEY)"
      ],
      "metadata": {
        "id": "LHJ8Eaouh8T-"
      },
      "execution_count": null,
      "outputs": []
    },
    {
      "cell_type": "code",
      "source": [
        "async def rag_query(user_query):\n",
        "    query_vector = vectorizer.transform([user_query])\n",
        "\n",
        "    similarity_scores = cosine_similarity(query_vector, tfidf_matrix).flatten()\n",
        "\n",
        "    top_doc_index = similarity_scores.argmax()\n",
        "    retrieved_context = data.iloc[top_doc_index]['combined_text']\n",
        "    prompt = f\"Context: {retrieved_context}\\n\\nQuestion: {user_query}\\nAnswer:\"\n",
        "    response = await client.chat.completions.create(\n",
        "        model=\"gpt-4o\",\n",
        "        messages=[\n",
        "            {\"role\": \"system\", \"content\": \"You are an expert tour guide at The Metropolitan Museum of Art (The Met) in New York City. Your role is to provide engaging, accurate, and detailed information about the museum's exhibits, history, and artworks. Answer questions with enthusiasm, clarity, and a friendly tone, making the information accessible to all ages. Highlight interesting facts, cultural significance, and historical context when relevant. Feel free to recommend must-see exhibits, hidden gems, and tips for enjoying the museum experience. If the visitor asks in a specific language, respond in the same language fluently while maintaining the same level of detail and professionalism. Always adapt your tone to be culturally appropriate and respectful. If you don’t have enough information, respond honestly and encourage the visitor to explore further at The Met.\"},\n",
        "            {\"role\": \"user\", \"content\": prompt}\n",
        "        ],\n",
        "        max_tokens=1000\n",
        "    )\n",
        "\n",
        "    return response.choices[0].message.content\n",
        "\n"
      ],
      "metadata": {
        "id": "6TTMFJblXb5E"
      },
      "execution_count": null,
      "outputs": []
    },
    {
      "cell_type": "code",
      "source": [
        "# Example Query\n",
        "query = \"kể tôi về 3 bức tranh có giá trị lịch sử lâu đời nhất ở Met\"\n",
        "\n",
        "try:\n",
        "    import nest_asyncio\n",
        "    nest_asyncio.apply()\n",
        "    response = await rag_query(query)\n",
        "except RuntimeError:\n",
        "    response = asyncio.run(rag_query(query))\n",
        "\n",
        "print(response)"
      ],
      "metadata": {
        "colab": {
          "base_uri": "https://localhost:8080/"
        },
        "id": "RHifxKtIjPel",
        "outputId": "2c8a78ca-f351-47fe-b33f-b75fbb617752"
      },
      "execution_count": null,
      "outputs": [
        {
          "output_type": "stream",
          "name": "stdout",
          "text": [
            "Cảm ơn bạn đã quan tâm đến những tác phẩm nghệ thuật có giá trị lịch sử tại The Met! Tuy nhiên, cần lưu ý rằng việc xác định ba bức tranh có giá trị lịch sử lâu đời nhất có thể khá khó khăn, bởi vì The Met sở hữu một bộ sưu tập rất rộng lớn với nhiều tác phẩm từ khắp nơi trên thế giới và qua nhiều thời kỳ lịch sử khác nhau. Dưới đây là ba tác phẩm nổi bật với giá trị lịch sử cao mà bạn có thể quan tâm:\n",
            "\n",
            "1. **\"Madonna and Child\" của Duccio di Buoninsegna** - Đây là một tác phẩm quan trọng của nghệ sĩ người Ý thời kỳ đầu. Bức tranh này thể hiện sự chuyển mình từ nghệ thuật Byzantine sang phong cách hội họa Phục Hưng sớm, và là ví dụ điển hình cho tài năng của Duccio trong việc sử dụng màu sắc và biểu cảm.\n",
            "\n",
            "2. **\"Aristotle with a Bust of Homer\" của Rembrandt** - Được thực hiện vào năm 1653, đây là một trong những tác phẩm quan trọng của Rembrandt, nghệ sĩ người Hà Lan. Bức tranh này được biết đến với kỹ thuật ánh sáng và sự diễn tả sâu sắc về cảm xúc và tư tưởng.\n",
            "\n",
            "3. **\"The Death of Socrates\" của Jacques-Louis David** - Hoàn thành năm 1787, đây là một tác phẩm kinh điển vượt thời gian, miêu tả cái chết của triết gia Hy Lạp Socrates như một biểu tượng cho lòng can đảm và đức hạnh. Tác phẩm này thể hiện phong cách Tân Cổ điển của David với việc chú trọng đến chi tiết và cấu trúc câu chuyện.\n",
            "\n",
            "Khi bạn ghé thăm The Met, đây là những tác phẩm không thể bỏ qua. Đừng quên xem các chương trình hướng dẫn tham quan để lấy được thêm thông tin chi tiết và trải nghiệm đầy đủ nhất. Hy vọng bạn sẽ có một chuyến tham quan thú vị tại The Met!\n"
          ]
        }
      ]
    }
  ]
}